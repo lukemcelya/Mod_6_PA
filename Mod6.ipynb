{
 "cells": [
  {
   "cell_type": "code",
   "execution_count": 16,
   "id": "2c239d28-f929-4052-89ac-a534008d9690",
   "metadata": {},
   "outputs": [
    {
     "name": "stdout",
     "output_type": "stream",
     "text": [
      "09-29-2024\n"
     ]
    }
   ],
   "source": [
    "#13.1\n",
    "from datetime import date, datetime\n",
    "\n",
    "today = date.today()\n",
    "today_format = today.strftime(\"%m-%d-%Y\")\n",
    "file = open(\"date.txt\", \"w\")\n",
    "file.write(today_format)\n",
    "file.close()\n",
    "print(today_format)"
   ]
  },
  {
   "cell_type": "code",
   "execution_count": 14,
   "id": "5666b3a1-f2f7-47ba-90e8-efcc95801884",
   "metadata": {},
   "outputs": [
    {
     "name": "stdout",
     "output_type": "stream",
     "text": [
      "09-29-2024\n"
     ]
    }
   ],
   "source": [
    "#13.2\n",
    "with open(\"date.txt\", \"r\") as file:\n",
    "    today_string = file.read()\n",
    "    print(today_string)"
   ]
  },
  {
   "cell_type": "code",
   "execution_count": 18,
   "id": "0d3b5b5c-89c3-4ac2-966a-76c27787e92a",
   "metadata": {},
   "outputs": [
    {
     "name": "stdout",
     "output_type": "stream",
     "text": [
      "2024-09-29 00:00:00\n"
     ]
    }
   ],
   "source": [
    "today_object = datetime.strptime(today_string, \"%m-%d-%Y\")\n",
    "print(today_object)"
   ]
  },
  {
   "cell_type": "code",
   "execution_count": 22,
   "id": "14359b07-218e-4bf4-8aff-ab96da7a3dd0",
   "metadata": {},
   "outputs": [],
   "source": [
    "import multiprocessing\n",
    "from datetime import datetime\n",
    "import time\n",
    "import random\n",
    "\n",
    "def wait_time(process_num):\n",
    "    timer = random.randint(0,10)\n",
    "    now = datetime.now()\n",
    "    current_time = now.strftime(\"%H:%M:%S\")\n",
    "    time.sleep(timer)\n",
    "    print(\"Process #\",process_num, \"Time: \",current_time)\n",
    "\n",
    "if __name__ == \"__main__\":\n",
    "    p1 = multiprocessing.Process(target=wait_time, args=(1, ))\n",
    "    p2 = multiprocessing.Process(target=wait_time, args=(2, ))\n",
    "    p3 = multiprocessing.Process(target=wait_time, args=(3, ))\n",
    "\n",
    "    p1.start()\n",
    "    p2.start()\n",
    "    p3.start()\n",
    "\n",
    "    p1.join()\n",
    "    p2.join()\n",
    "    p3.join()"
   ]
  },
  {
   "cell_type": "code",
   "execution_count": null,
   "id": "804301ec-5aca-4ca7-a1ab-16d02809e68f",
   "metadata": {},
   "outputs": [],
   "source": []
  }
 ],
 "metadata": {
  "kernelspec": {
   "display_name": "Python 3 (ipykernel)",
   "language": "python",
   "name": "python3"
  },
  "language_info": {
   "codemirror_mode": {
    "name": "ipython",
    "version": 3
   },
   "file_extension": ".py",
   "mimetype": "text/x-python",
   "name": "python",
   "nbconvert_exporter": "python",
   "pygments_lexer": "ipython3",
   "version": "3.12.4"
  }
 },
 "nbformat": 4,
 "nbformat_minor": 5
}
